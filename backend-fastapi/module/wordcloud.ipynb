{
 "cells": [
  {
   "cell_type": "markdown",
   "metadata": {
    "id": "pskFlgIq0aV7"
   },
   "source": [
    "단어 클라우드 생성위한 카운트를 목적"
   ]
  },
  {
   "cell_type": "markdown",
   "metadata": {
    "id": "sbzH_V0ez2Vr"
   },
   "source": [
    "### (필요할 때만) 설치"
   ]
  },
  {
   "cell_type": "code",
   "execution_count": 8,
   "metadata": {
    "executionInfo": {
     "elapsed": 10061,
     "status": "ok",
     "timestamp": 1758611812751,
     "user": {
      "displayName": "dm h",
      "userId": "02123955764226358983"
     },
     "user_tz": -540
    },
    "id": "0U9QzrCi-Ckx"
   },
   "outputs": [],
   "source": [
    "!pip install -q gradio wordcloud kiwipiepy\n",
    "!apt-get -y install -qq fonts-nanum\n"
   ]
  },
  {
   "cell_type": "markdown",
   "metadata": {
    "id": "KfJ97MAVEVVA"
   },
   "source": [
    "### 설정 & 토크나이저"
   ]
  },
  {
   "cell_type": "code",
   "execution_count": null,
   "metadata": {
    "executionInfo": {
     "elapsed": 2806,
     "status": "ok",
     "timestamp": 1758611815564,
     "user": {
      "displayName": "dm h",
      "userId": "02123955764226358983"
     },
     "user_tz": -540
    },
    "id": "oVSZeqKcEVoa"
   },
   "outputs": [],
   "source": [
    "from collections import Counter\n",
    "from pathlib import Path\n",
    "import os, re, unicodedata\n",
    "\n",
    "TARGETS = [\"우울증\",\"불안장애\",\"중독\",\"정상군\"]\n",
    "\n",
    "# 한글 폰트 경로 자동 선택\n",
    "FONT_CANDIDATES = [\n",
    "    \"/usr/share/fonts/truetype/nanum/NanumGothic.ttf\",\n",
    "    \"/System/Library/Fonts/AppleSDGothicNeo.ttc\",\n",
    "    \"C:/Windows/Fonts/malgun.ttf\",\n",
    "]\n",
    "FONT_PATH = next((p for p in FONT_CANDIDATES if os.path.exists(p)), None)\n",
    "\n",
    "# 토크나이저: 명사 위주(권장) → 실패 시 심플 토크나이저\n",
    "USE_KIWI = True\n",
    "try:\n",
    "    if USE_KIWI:\n",
    "        from kiwipiepy import Kiwi\n",
    "        kiwi = Kiwi()\n",
    "        def tokenize(text: str):\n",
    "            toks = []\n",
    "            for (form, tag, _, _ ) in kiwi.analyze(text, top_n=1)[0][0]:\n",
    "                if tag.startswith(\"N\",\"VV\"):  # 명사류, 동사\n",
    "                    toks.append(form)\n",
    "            return toks\n",
    "    else:\n",
    "        raise ImportError\n",
    "except Exception:\n",
    "    def tokenize(text: str):\n",
    "        text = unicodedata.normalize(\"NFKC\", str(text))\n",
    "        return re.findall(r\"[가-힣]{2,}|[A-Za-z]{2,}|[0-9]{2,}\", text)\n",
    "\n",
    "# 불용어 예시(원하면 추가/수정)\n",
    "STOPWORDS = set(\"\"\"\n",
    "그리고 그러나 그런데 그래서 또한 또는 정말 매우 너무 그냥 어떤 이런 저런 그런 정도 조금 거의\n",
    "상담 병원 증상 치료 검사 결과 문제 상태 환자 선생님 경험 이야기 생각 느낌 오늘 지금 최근 번호 문의\n",
    "\"\"\".split())\n"
   ]
  },
  {
   "cell_type": "markdown",
   "metadata": {
    "id": "o3DTAKB4z-kA"
   },
   "source": [
    "### “모델 점수” 연동 훅\n",
    "\n",
    "✅ 여기만 당신의 모델 호출로 바꿔주면 됩니다.\n",
    "반환형: {\"우울증\": float, \"불안장애\": float, \"중독\": float, \"정상군\": float} (합이 1에 가까우면 베스트)"
   ]
  },
  {
   "cell_type": "code",
   "execution_count": 10,
   "metadata": {
    "executionInfo": {
     "elapsed": 25,
     "status": "ok",
     "timestamp": 1758611815592,
     "user": {
      "displayName": "dm h",
      "userId": "02123955764226358983"
     },
     "user_tz": -540
    },
    "id": "bvlr3sz-z802"
   },
   "outputs": [],
   "source": [
    "def get_scores(text: str) -> dict:\n",
    "    \"\"\"\n",
    "    TODO: 당신의 '문장을 받으면 점수' 모델로 교체하세요.\n",
    "    예시(Transformers 분류 모델일 때):\n",
    "        inputs = tok(text, return_tensors=\"pt\", truncation=True).to(model.device)\n",
    "        with torch.no_grad():\n",
    "            prob = model(**inputs).logits.softmax(-1).cpu().numpy()[0]\n",
    "        # id2label를 한국어 라벨로 매핑 후 dict 구성\n",
    "    \"\"\"\n",
    "    # --- 데모용(무작위) : 반드시 교체하세요 ---\n",
    "    import random\n",
    "    xs = [random.random() for _ in range(4)]\n",
    "    s  = sum(xs)\n",
    "    xs = [x/s for x in xs]\n",
    "    return dict(zip(TARGETS, xs))\n"
   ]
  },
  {
   "cell_type": "markdown",
   "metadata": {
    "id": "G10t63Pi0DQy"
   },
   "source": [
    "### 가중 카운터 & 워드클라우드 유틸"
   ]
  },
  {
   "cell_type": "code",
   "execution_count": 11,
   "metadata": {
    "executionInfo": {
     "elapsed": 10,
     "status": "ok",
     "timestamp": 1758611815610,
     "user": {
      "displayName": "dm h",
      "userId": "02123955764226358983"
     },
     "user_tz": -540
    },
    "id": "1d80uKCrz8lk"
   },
   "outputs": [],
   "source": [
    "from wordcloud import WordCloud\n",
    "import pandas as pd\n",
    "\n",
    "# 누적 카운터(라벨별)\n",
    "COUNTS = {lab: Counter() for lab in TARGETS}\n",
    "\n",
    "def update_counts(text: str, scores: dict, use_weight=True):\n",
    "    \"\"\"\n",
    "    use_weight=True  → 각 단어를 라벨 점수만큼 가중 합산 (ex. '우울증' 0.7이면 해당 단어에 +0.7)\n",
    "    use_weight=False → argmax 라벨에만 +1 (전통적 방식)\n",
    "    \"\"\"\n",
    "    labs = list(scores.keys())\n",
    "    if use_weight:\n",
    "        for tok in tokenize(text):\n",
    "            if tok in STOPWORDS:\n",
    "                continue\n",
    "            for lab in TARGETS:\n",
    "                COUNTS[lab][tok] += float(scores.get(lab, 0.0))\n",
    "    else:\n",
    "        lab = max(scores, key=scores.get)\n",
    "        for tok in tokenize(text):\n",
    "            if tok in STOPWORDS:\n",
    "                continue\n",
    "            COUNTS[lab][tok] += 1.0\n",
    "\n",
    "def top_table(n=30):\n",
    "    rows=[]\n",
    "    for lab in TARGETS:\n",
    "        for tok, cnt in COUNTS[lab].most_common(n):\n",
    "            rows.append({\"label\": lab, \"token\": tok, \"count\": round(float(cnt),3)})\n",
    "    return pd.DataFrame(rows)\n",
    "\n",
    "def make_cloud(lab: str, width=1200, height=800):\n",
    "    if not COUNTS[lab]:\n",
    "        return None\n",
    "    wc = WordCloud(\n",
    "        font_path=FONT_PATH, width=width, height=height,\n",
    "        background_color=\"white\", max_words=200\n",
    "    ).generate_from_frequencies(dict(COUNTS[lab]))\n",
    "    return wc.to_image()\n"
   ]
  },
  {
   "cell_type": "markdown",
   "metadata": {
    "id": "qU_e2nvS0JnS"
   },
   "source": [
    "### Gradio 챗봇 UI\n",
    "\n",
    "- 입력: 문장\n",
    "\n",
    "- 모델 점수 자동 호출(또는 수동 점수 JSON로 덮어쓰기 가능)\n",
    "\n",
    "- “가중합(soft)” vs “최대라벨( hard )” 모드 선택\n",
    "\n",
    "- 4개 워드클라우드 + 상위 토큰 테이블 실시간 갱신\n",
    "\n",
    "- 리셋/CSV 내보내기"
   ]
  },
  {
   "cell_type": "code",
   "execution_count": 12,
   "metadata": {
    "colab": {
     "base_uri": "https://localhost:8080/",
     "height": 649
    },
    "executionInfo": {
     "elapsed": 1495,
     "status": "ok",
     "timestamp": 1758611817107,
     "user": {
      "displayName": "dm h",
      "userId": "02123955764226358983"
     },
     "user_tz": -540
    },
    "id": "o3eRawTv0LlT",
    "outputId": "12637060-fa3f-4f7f-ed24-840d2453d4a6"
   },
   "outputs": [
    {
     "name": "stdout",
     "output_type": "stream",
     "text": [
      "It looks like you are running Gradio on a hosted Jupyter notebook, which requires `share=True`. Automatically setting `share=True` (you can turn this off by setting `share=False` in `launch()` explicitly).\n",
      "\n",
      "Colab notebook detected. To show errors in colab notebook, set debug=True in launch()\n",
      "* Running on public URL: https://5c2b43667a695b46b6.gradio.live\n",
      "\n",
      "This share link expires in 1 week. For free permanent hosting and GPU upgrades, run `gradio deploy` from the terminal in the working directory to deploy to Hugging Face Spaces (https://huggingface.co/spaces)\n"
     ]
    },
    {
     "data": {
      "text/html": [
       "<div><iframe src=\"https://5c2b43667a695b46b6.gradio.live\" width=\"100%\" height=\"500\" allow=\"autoplay; camera; microphone; clipboard-read; clipboard-write;\" frameborder=\"0\" allowfullscreen></iframe></div>"
      ],
      "text/plain": [
       "<IPython.core.display.HTML object>"
      ]
     },
     "metadata": {},
     "output_type": "display_data"
    },
    {
     "data": {
      "text/plain": []
     },
     "execution_count": 12,
     "metadata": {},
     "output_type": "execute_result"
    }
   ],
   "source": [
    "import gradio as gr\n",
    "import json\n",
    "from io import BytesIO\n",
    "\n",
    "def infer_and_update(message, mode, manual_scores_json):\n",
    "    # 모델 점수 획득\n",
    "    if manual_scores_json and manual_scores_json.strip():\n",
    "        try:\n",
    "            scores = json.loads(manual_scores_json)\n",
    "        except Exception:\n",
    "            return gr.update(), gr.update(), gr.update(), gr.update(), gr.update(value=\"JSON 파싱 실패\"), None\n",
    "    else:\n",
    "        scores = get_scores(message)\n",
    "\n",
    "    # 검증 & 정규화\n",
    "    ssum = sum(float(scores.get(k,0.0)) for k in TARGETS)\n",
    "    if ssum > 0:\n",
    "        scores = {k: float(scores.get(k,0.0))/ssum for k in TARGETS}\n",
    "    else:\n",
    "        scores = {k: 0.0 for k in TARGETS}\n",
    "\n",
    "    use_weight = (mode == \"가중합(soft)\")\n",
    "    update_counts(message, scores, use_weight=use_weight)\n",
    "\n",
    "    # 워드클라우드 생성\n",
    "    imgs = [make_cloud(l) for l in TARGETS]\n",
    "    # 상태 텍스트\n",
    "    st = \"scores: \" + \", \".join([f\"{k}:{scores[k]:.3f}\" for k in TARGETS])\n",
    "    return imgs[0], imgs[1], imgs[2], imgs[3], st, None\n",
    "\n",
    "def export_counts():\n",
    "    df = top_table(999999)\n",
    "    csv = df.to_csv(index=False, encoding=\"utf-8-sig\")\n",
    "    return csv\n",
    "\n",
    "def reset_all():\n",
    "    for lab in TARGETS:\n",
    "        COUNTS[lab].clear()\n",
    "    return (None, None, None, None, \"리셋 완료\", None)\n",
    "\n",
    "with gr.Blocks() as demo:\n",
    "    gr.Markdown(\"### 단어 가중 카운터 · 워드클라우드 (우울/불안/중독/정상군)\")\n",
    "    with gr.Row():\n",
    "        inp = gr.Textbox(label=\"문장 입력\", placeholder=\"예: 요즘 불안하고 잠이 잘 안 와요…\")\n",
    "        mode = gr.Radio(choices=[\"가중합(soft)\", \"최대라벨(hard)\"], value=\"가중합(soft)\", label=\"집계 모드\")\n",
    "    manual = gr.Textbox(label=\"(선택) 점수 JSON 덮어쓰기\", placeholder='예: {\"우울증\":0.7,\"불안장애\":0.2,\"중독\":0.05,\"정상군\":0.05}')\n",
    "\n",
    "    submit = gr.Button(\"전송\")\n",
    "    reset  = gr.Button(\"리셋\")\n",
    "    export = gr.Button(\"CSV 내보내기\")\n",
    "\n",
    "    status = gr.Markdown(\"\")\n",
    "    with gr.Row():\n",
    "        img_d = gr.Image(label=\"우울증\",  type=\"pil\")\n",
    "        img_a = gr.Image(label=\"불안장애\", type=\"pil\")\n",
    "    with gr.Row():\n",
    "        img_s = gr.Image(label=\"중독\",   type=\"pil\")\n",
    "        img_n = gr.Image(label=\"정상군\", type=\"pil\")\n",
    "\n",
    "    table = gr.Dataframe(value=top_table(50), label=\"상위 토큰(라벨별)\", interactive=False)\n",
    "\n",
    "    def on_submit(message, mode, manual_json):\n",
    "        img1, img2, img3, img4, st, _ = infer_and_update(message, mode, manual_json)\n",
    "        # 표 갱신\n",
    "        return img1, img2, img3, img4, st, top_table(50)\n",
    "\n",
    "    submit.click(\n",
    "        on_submit, inputs=[inp, mode, manual],\n",
    "        outputs=[img_d, img_a, img_s, img_n, status, table]\n",
    "    )\n",
    "\n",
    "    reset.click(\n",
    "        lambda: reset_all(),\n",
    "        outputs=[img_d, img_a, img_s, img_n, status, table],\n",
    "    )\n",
    "\n",
    "    export.click(\n",
    "        fn=lambda: export_counts(),\n",
    "        outputs=gr.File(label=\"counts.csv\"),\n",
    "    )\n",
    "\n",
    "demo.launch(debug=False)\n"
   ]
  },
  {
   "cell_type": "code",
   "execution_count": 13,
   "metadata": {
    "executionInfo": {
     "elapsed": 117,
     "status": "ok",
     "timestamp": 1758612463807,
     "user": {
      "displayName": "dm h",
      "userId": "02123955764226358983"
     },
     "user_tz": -540
    },
    "id": "CgzQcCw_eJO7"
   },
   "outputs": [],
   "source": []
  },
  {
   "cell_type": "code",
   "execution_count": null,
   "metadata": {
    "id": "q7ElCClReJ9b"
   },
   "outputs": [],
   "source": []
  }
 ],
 "metadata": {
  "colab": {
   "authorship_tag": "ABX9TyNmIicOrKZlsyJJ4TbPjLdQ",
   "provenance": []
  },
  "kernelspec": {
   "display_name": "Python 3",
   "name": "python3"
  },
  "language_info": {
   "name": "python"
  }
 },
 "nbformat": 4,
 "nbformat_minor": 0
}
