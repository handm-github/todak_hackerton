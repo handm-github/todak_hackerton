{
 "cells": [
  {
   "cell_type": "code",
   "execution_count": 1,
   "id": "9f69e896",
   "metadata": {},
   "outputs": [
    {
     "name": "stderr",
     "output_type": "stream",
     "text": [
      "c:\\Users\\kase\\AppData\\Local\\Programs\\Python\\Python312\\Lib\\site-packages\\tqdm\\auto.py:21: TqdmWarning: IProgress not found. Please update jupyter and ipywidgets. See https://ipywidgets.readthedocs.io/en/stable/user_install.html\n",
      "  from .autonotebook import tqdm as notebook_tqdm\n"
     ]
    }
   ],
   "source": [
    "# api 적용\n",
    "import torch\n",
    "import torch.nn as nn\n",
    "from transformers import AutoModelForSequenceClassification, AutoTokenizer"
   ]
  },
  {
   "cell_type": "code",
   "execution_count": 2,
   "id": "64c21a36",
   "metadata": {},
   "outputs": [],
   "source": [
    "MODEL_REPOS = {\n",
    "    \"depression\": \"harkase/kluebert-depression\",\n",
    "    \"anxiety\": \"harkase/kluebert-anxiety\"\n",
    "}"
   ]
  },
  {
   "cell_type": "code",
   "execution_count": 3,
   "id": "db87e00d",
   "metadata": {},
   "outputs": [],
   "source": [
    "# 허깅페이스에서 모델 불러오기\n",
    "\n",
    "def load_models():\n",
    "    device = torch.device(\"cuda\" if torch.cuda.is_available() else \"cpu\")\n",
    "    models, tokenizers = {}, {}\n",
    "\n",
    "    for name, repo in MODEL_REPOS.items():\n",
    "        models[name] = AutoModelForSequenceClassification.from_pretrained(repo).to(device)\n",
    "        tokenizers[name] = AutoTokenizer.from_pretrained(repo)\n",
    "        models[name].eval()\n",
    "\n",
    "    return models, tokenizers, device"
   ]
  },
  {
   "cell_type": "code",
   "execution_count": 4,
   "id": "80ae46bc",
   "metadata": {},
   "outputs": [],
   "source": [
    "# 모델 정의\n",
    "class CustomBertForSequenceRegression(AutoModelForSequenceClassification):\n",
    "    def __init__(self, config):\n",
    "        super().__init__(config)\n",
    "        self.num_labels = 1\n",
    "        self.regressor = nn.Linear(config.hidden_size, self.num_labels)\n",
    "\n",
    "    def forward(self, input_ids=None, attention_mask=None, token_type_ids=None, labels=None, **kwargs):\n",
    "        outputs = self.bert(\n",
    "            input_ids,\n",
    "            attention_mask=attention_mask,\n",
    "            token_type_ids=token_type_ids,\n",
    "            **kwargs\n",
    "        )\n",
    "        sequence_output = outputs[0]\n",
    "        pooled_output = sequence_output[:, 0, :]\n",
    "        logits = self.regressor(pooled_output)\n",
    "\n",
    "        loss = None\n",
    "        if labels is not None:\n",
    "            loss_fct = nn.MSELoss()\n",
    "            loss = loss_fct(logits, labels)\n",
    "        return (loss, logits) if loss is not None else logits"
   ]
  },
  {
   "cell_type": "code",
   "execution_count": 5,
   "id": "84b1eda1",
   "metadata": {},
   "outputs": [],
   "source": [
    "# 유틸 함수\n",
    "def closest_integer(predictions: float): # 0~3 사이에서 가장 가까운 정수 설정\n",
    "    return min(max(round(predictions), 0), 3)\n",
    "\n",
    "def predict(sentence: str, model, tokenizer, device): # 모델 예측\n",
    "    inputs = tokenizer(sentence, return_tensors=\"pt\", padding=True, truncation=True)\n",
    "    inputs = {k: v.to(device) for k, v in inputs.items()}\n",
    "    model.to(device)\n",
    "\n",
    "    with torch.no_grad():\n",
    "        outputs = model(**inputs)\n",
    "\n",
    "    logits = outputs[1] if isinstance(outputs, tuple) else outputs\n",
    "    pred = logits.squeeze().tolist()\n",
    "    return closest_integer(pred)"
   ]
  }
 ],
 "metadata": {
  "kernelspec": {
   "display_name": "Python 3",
   "language": "python",
   "name": "python3"
  },
  "language_info": {
   "codemirror_mode": {
    "name": "ipython",
    "version": 3
   },
   "file_extension": ".py",
   "mimetype": "text/x-python",
   "name": "python",
   "nbconvert_exporter": "python",
   "pygments_lexer": "ipython3",
   "version": "3.12.1"
  }
 },
 "nbformat": 4,
 "nbformat_minor": 5
}
