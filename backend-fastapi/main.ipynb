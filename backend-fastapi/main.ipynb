{
 "cells": [
  {
   "cell_type": "code",
   "execution_count": null,
   "id": "040f85d9",
   "metadata": {},
   "outputs": [
    {
     "name": "stdout",
     "output_type": "stream",
     "text": [
      "Note: you may need to restart the kernel to use updated packages.\n"
     ]
    },
    {
     "name": "stderr",
     "output_type": "stream",
     "text": [
      "ERROR: Could not open requirements file: [Errno 2] No such file or directory: '../requirements.txt'\n",
      "\n",
      "[notice] A new release of pip is available: 23.2.1 -> 25.2\n",
      "[notice] To update, run: python.exe -m pip install --upgrade pip\n"
     ]
    }
   ],
   "source": [
    "# api 설치\n",
    "%pip install -r ./requirements.txt"
   ]
  },
  {
   "cell_type": "code",
   "execution_count": 1,
   "id": "f4bad1dd",
   "metadata": {},
   "outputs": [
    {
     "name": "stderr",
     "output_type": "stream",
     "text": [
      "c:\\Users\\kase\\AppData\\Local\\Programs\\Python\\Python312\\Lib\\site-packages\\tqdm\\auto.py:21: TqdmWarning: IProgress not found. Please update jupyter and ipywidgets. See https://ipywidgets.readthedocs.io/en/stable/user_install.html\n",
      "  from .autonotebook import tqdm as notebook_tqdm\n"
     ]
    }
   ],
   "source": [
    "\n",
    "from fastapi import FastAPI\n",
    "from pydantic import BaseModel\n",
    "from contextlib import asynccontextmanager\n",
    "from module.model import load_models, predict\n",
    "from module.chatbot import get_chatbot_chain\n",
    "from module.wordcount import count_tokens"
   ]
  },
  {
   "cell_type": "code",
   "execution_count": 12,
   "id": "2778bf8c",
   "metadata": {},
   "outputs": [],
   "source": [
    "# lifespan으로 모델 로드 관리\n",
    "@asynccontextmanager\n",
    "async def lifespan(app: FastAPI):\n",
    "    global models, tokenizers, device\n",
    "    models, tokenizers, device = load_models()\n",
    "    yield\n",
    "    models.clear()\n",
    "    tokenizers.clear()"
   ]
  },
  {
   "cell_type": "code",
   "execution_count": null,
   "id": "664dc085",
   "metadata": {},
   "outputs": [],
   "source": [
    "app = FastAPI(lifespan=lifespan)"
   ]
  },
  {
   "cell_type": "code",
   "execution_count": null,
   "id": "fcb3fd8f",
   "metadata": {},
   "outputs": [],
   "source": [
    "\n",
    "class ChatRequest(BaseModel):\n",
    "    message: str\n",
    "\n",
    "class ChatResponse(BaseModel):\n",
    "    reply: str\n",
    "\n",
    "@app.get(\"/api/v1/chatbot\", response_model=ChatResponse)\n",
    "def chat(req: ChatRequest):\n",
    "    response = get_chatbot_chain.run(input=req.message)\n",
    "    return ChatResponse(reply=response)"
   ]
  },
  {
   "cell_type": "markdown",
   "id": "fda3904b",
   "metadata": {},
   "source": [
    "- 응답예시{json 형식}  \n",
    "{\n",
    "  \"reply\": \"오늘 하루 많이 힘드셨겠어요.\"\n",
    "}"
   ]
  },
  {
   "cell_type": "code",
   "execution_count": null,
   "id": "bd1bdadc",
   "metadata": {},
   "outputs": [],
   "source": [
    "class TextInput(BaseModel):\n",
    "    text: str\n",
    "\n",
    "@app.get(\"/api/v1/channels/{channelId}/reports/frequency\")\n",
    "def analyze_text(channelId: str, data: TextInput):\n",
    "    # 1) 단어 카운트\n",
    "    counter = count_tokens(data.text)\n",
    "    token_freqs = [{\"token\": tok, \"count\": cnt} for tok, cnt in counter.most_common()]\n",
    "\n",
    "    # 2) 감지 모델 예측\n",
    "    results = {}\n",
    "    for disease in [\"depression\", \"anxiety\"]:\n",
    "        results[disease] = predict(data.text, models[disease], tokenizers[disease], device)\n",
    "\n",
    "    # 3) 통합 Response\n",
    "    return {\n",
    "        \"channelId\": channelId,\n",
    "        \"input\": data.text,\n",
    "        \"tokens\": token_freqs,\n",
    "        \"predictions\": results\n",
    "    }\n"
   ]
  },
  {
   "cell_type": "markdown",
   "id": "8c1b3ab5",
   "metadata": {},
   "source": [
    "- 응답예시(json형식)  \n",
    "\"\"\" {\n",
    "  \"channelId\": \"123\",  \n",
    "  \"input\": \"오늘은 기분이 우울하고 불안하다.\",  \n",
    "  \"tokens\": [  \n",
    "    {\"token\": \"기분\", \"count\": 1},  \n",
    "    {\"token\": \"우울하고\", \"count\": 1},  \n",
    "    {\"token\": \"불안하다\", \"count\": 1}  \n",
    "  ],  \n",
    "  \"predictions\": {  \n",
    "    \"depression\": 2,  \n",
    "    \"anxiety\": 1  \n",
    "  }  \n",
    "} \"\"\""
   ]
  },
  {
   "cell_type": "code",
   "execution_count": null,
   "id": "c0432561",
   "metadata": {},
   "outputs": [],
   "source": [
    "# 직동확인 부분(최종 확인후 주석처리 혹은 삭제할 것)\n",
    "@app.get(\"/\")\n",
    "def root():\n",
    "    return {\"message\": \"KLUEBERT API is running\", \"models\": [\"depression\", \"anxiety\"]}"
   ]
  }
 ],
 "metadata": {
  "kernelspec": {
   "display_name": "Python 3",
   "language": "python",
   "name": "python3"
  },
  "language_info": {
   "codemirror_mode": {
    "name": "ipython",
    "version": 3
   },
   "file_extension": ".py",
   "mimetype": "text/x-python",
   "name": "python",
   "nbconvert_exporter": "python",
   "pygments_lexer": "ipython3",
   "version": "3.12.1"
  }
 },
 "nbformat": 4,
 "nbformat_minor": 5
}
