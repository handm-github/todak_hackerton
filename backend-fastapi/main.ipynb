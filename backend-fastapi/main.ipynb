{
 "cells": [
  {
   "cell_type": "code",
   "execution_count": null,
   "id": "040f85d9",
   "metadata": {},
   "outputs": [],
   "source": [
    "# api 설치\n",
    "%pip install -r ../requirements.txt"
   ]
  },
  {
   "cell_type": "code",
   "execution_count": null,
   "id": "f4bad1dd",
   "metadata": {},
   "outputs": [
    {
     "ename": "ModuleNotFoundError",
     "evalue": "No module named 'classification.model'",
     "output_type": "error",
     "traceback": [
      "\u001b[1;31m---------------------------------------------------------------------------\u001b[0m",
      "\u001b[1;31mModuleNotFoundError\u001b[0m                       Traceback (most recent call last)",
      "Cell \u001b[1;32mIn[3], line 4\u001b[0m\n\u001b[0;32m      2\u001b[0m \u001b[38;5;28;01mfrom\u001b[39;00m \u001b[38;5;21;01mpydantic\u001b[39;00m \u001b[38;5;28;01mimport\u001b[39;00m BaseModel\n\u001b[0;32m      3\u001b[0m \u001b[38;5;28;01mfrom\u001b[39;00m \u001b[38;5;21;01mcontextlib\u001b[39;00m \u001b[38;5;28;01mimport\u001b[39;00m asynccontextmanager\n\u001b[1;32m----> 4\u001b[0m \u001b[38;5;28;01mfrom\u001b[39;00m \u001b[38;5;21;01mclassification\u001b[39;00m\u001b[38;5;21;01m.\u001b[39;00m\u001b[38;5;21;01mmodel\u001b[39;00m \u001b[38;5;28;01mimport\u001b[39;00m load_models, predict\n",
      "\u001b[1;31mModuleNotFoundError\u001b[0m: No module named 'classification.model'"
     ]
    }
   ],
   "source": [
    "\n",
    "from fastapi import FastAPI\n",
    "from pydantic import BaseModel\n",
    "from contextlib import asynccontextmanager\n",
    "from module.model import load_models, predict"
   ]
  },
  {
   "cell_type": "code",
   "execution_count": null,
   "id": "2778bf8c",
   "metadata": {},
   "outputs": [],
   "source": [
    "# lifespan으로 모델 로드 관리\n",
    "@asynccontextmanager\n",
    "async def lifespan(app: FastAPI):\n",
    "    global models, tokenizers, device\n",
    "    models, tokenizers, device = load_models()\n",
    "    yield\n",
    "    models.clear()\n",
    "    tokenizers.clear()"
   ]
  },
  {
   "cell_type": "code",
   "execution_count": null,
   "id": "664dc085",
   "metadata": {},
   "outputs": [],
   "source": [
    "app = FastAPI(title=\"KLUEBERT Multi-Model API\", lifespan=lifespan)"
   ]
  },
  {
   "cell_type": "code",
   "execution_count": null,
   "id": "c5fc6ad5",
   "metadata": {},
   "outputs": [],
   "source": [
    "class PredictInput(BaseModel):\n",
    "    text: str\n",
    "\n",
    "# 분석조회 테이블 출력\n",
    "# 현재 감지모델 출력만 있음\n",
    "\n",
    "@app.post(\"/predict\")\n",
    "def get_prediction(data: PredictInput):\n",
    "    results = {}\n",
    "    for disease in [\"depression\", \"anxiety\"]:\n",
    "        results[disease] = predict(data.text, models[disease], tokenizers[disease], device)\n",
    "    return {\"input\": data.text, \"predictions\": results}"
   ]
  },
  {
   "cell_type": "code",
   "execution_count": null,
   "id": "c0432561",
   "metadata": {},
   "outputs": [],
   "source": [
    "# 직동확인 부분\n",
    "@app.get(\"/\")\n",
    "def root():\n",
    "    return {\"message\": \"KLUEBERT API is running\", \"models\": [\"depression\", \"anxiety\"]}"
   ]
  }
 ],
 "metadata": {
  "kernelspec": {
   "display_name": "Python 3",
   "language": "python",
   "name": "python3"
  },
  "language_info": {
   "codemirror_mode": {
    "name": "ipython",
    "version": 3
   },
   "file_extension": ".py",
   "mimetype": "text/x-python",
   "name": "python",
   "nbconvert_exporter": "python",
   "pygments_lexer": "ipython3",
   "version": "3.12.1"
  }
 },
 "nbformat": 4,
 "nbformat_minor": 5
}
