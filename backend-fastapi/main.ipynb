{
 "cells": [
  {
   "cell_type": "code",
   "execution_count": null,
   "id": "040f85d9",
   "metadata": {},
   "outputs": [
    {
     "name": "stdout",
     "output_type": "stream",
     "text": [
      "Note: you may need to restart the kernel to use updated packages.\n"
     ]
    },
    {
     "name": "stderr",
     "output_type": "stream",
     "text": [
      "ERROR: Could not open requirements file: [Errno 2] No such file or directory: '../requirements.txt'\n",
      "\n",
      "[notice] A new release of pip is available: 23.2.1 -> 25.2\n",
      "[notice] To update, run: python.exe -m pip install --upgrade pip\n"
     ]
    }
   ],
   "source": [
    "# api 설치\n",
    "%pip install -r ./requirements.txt"
   ]
  },
  {
   "cell_type": "code",
   "execution_count": 11,
   "id": "f4bad1dd",
   "metadata": {},
   "outputs": [
    {
     "name": "stderr",
     "output_type": "stream",
     "text": [
      "c:\\Users\\kase\\AppData\\Local\\Programs\\Python\\Python312\\Lib\\site-packages\\tqdm\\auto.py:21: TqdmWarning: IProgress not found. Please update jupyter and ipywidgets. See https://ipywidgets.readthedocs.io/en/stable/user_install.html\n",
      "  from .autonotebook import tqdm as notebook_tqdm\n"
     ]
    }
   ],
   "source": [
    "\n",
    "from fastapi import FastAPI\n",
    "from pydantic import BaseModel\n",
    "from contextlib import asynccontextmanager\n",
    "from module.model import load_models, predict"
   ]
  },
  {
   "cell_type": "code",
   "execution_count": 12,
   "id": "2778bf8c",
   "metadata": {},
   "outputs": [],
   "source": [
    "# lifespan으로 모델 로드 관리\n",
    "@asynccontextmanager\n",
    "async def lifespan(app: FastAPI):\n",
    "    global models, tokenizers, device\n",
    "    models, tokenizers, device = load_models()\n",
    "    yield\n",
    "    models.clear()\n",
    "    tokenizers.clear()"
   ]
  },
  {
   "cell_type": "code",
   "execution_count": 13,
   "id": "664dc085",
   "metadata": {},
   "outputs": [],
   "source": [
    "app = FastAPI(title=\"KLUEBERT Multi-Model API\", lifespan=lifespan)"
   ]
  },
  {
   "cell_type": "code",
   "execution_count": 14,
   "id": "c5fc6ad5",
   "metadata": {},
   "outputs": [],
   "source": [
    "class PredictInput(BaseModel):\n",
    "    text: str\n",
    "\n",
    "# 분석조회 테이블 출력\n",
    "# 현재 감지모델 출력만 있음\n",
    "\n",
    "@app.post(\"/api/v1/channels/{channelId}/reports/frequency\")\n",
    "def get_prediction(data: PredictInput):\n",
    "    results = {}\n",
    "    for disease in [\"depression\", \"anxiety\"]:\n",
    "        results[disease] = predict(data.text, models[disease], tokenizers[disease], device)\n",
    "    return {\"input\": data.text, \"predictions\": results}"
   ]
  },
  {
   "cell_type": "code",
   "execution_count": 15,
   "id": "c0432561",
   "metadata": {},
   "outputs": [],
   "source": [
    "# 직동확인 부분\n",
    "@app.get(\"/\")\n",
    "def root():\n",
    "    return {\"message\": \"KLUEBERT API is running\", \"models\": [\"depression\", \"anxiety\"]}"
   ]
  }
 ],
 "metadata": {
  "kernelspec": {
   "display_name": "Python 3",
   "language": "python",
   "name": "python3"
  },
  "language_info": {
   "codemirror_mode": {
    "name": "ipython",
    "version": 3
   },
   "file_extension": ".py",
   "mimetype": "text/x-python",
   "name": "python",
   "nbconvert_exporter": "python",
   "pygments_lexer": "ipython3",
   "version": "3.12.1"
  }
 },
 "nbformat": 4,
 "nbformat_minor": 5
}
